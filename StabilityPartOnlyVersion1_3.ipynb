{
 "cells": [
  {
   "cell_type": "markdown",
   "metadata": {},
   "source": [
    "##  StabilityPartOnly: <br>\n",
    "- version: 1_3 <br>\n",
    "This code constructs the stability matrix, which can then be used to construct the initial condition for the Kawahara in form of $u(x,t)=u^{(0)}(x) + \\delta e^{\\lambda t} u^{(1)}(x) + O(\\delta ^2)$\n",
    "<br>\n",
    "<br>\n",
    "- version summary :\n",
    "- Stability matrix bugs fixed and tested\n",
    "- kawaharaStabFuncPosTest (the function that constructs stability matrix) includes two methods to calculates stability matrix\n",
    "- Documented\n",
    "- Includes testing for $u^{(0)}$ by plotting the bifurcation branch\n",
    "<br>\n"
   ]
  },
  {
   "cell_type": "code",
   "execution_count": 45,
   "metadata": {},
   "outputs": [],
   "source": [
    "from math import *\n",
    "import numpy as np\n",
    "import scipy as sc\n",
    "from matplotlib import pyplot as plt\n",
    "from scipy.optimize import fsolve\n",
    "%matplotlib inline\n"
   ]
  },
  {
   "cell_type": "markdown",
   "metadata": {},
   "source": [
    "## Function: kawaharainitial <br>\n",
    "The following function Kawaharainitial solves the steady state equation\n",
    " $    Vu^{(0)}_x+\\alpha u^{(0)}_{3x} +\\beta u^{(0)}_{5x} + \\sigma ((u^{(0)})^2)_x=0.$\n",
    " <br>\n",
    "### Input parameters: <br>\n",
    "- $U$ is a vector cotaining the unknown N+1 Fourier coefficients and the speed \n",
    "- a1 is the $a_1$ Fourier coefficient in the definition of $ u^{(0)}$, we use this as a free parameter representative of amplitude\n",
    "- alpha, beta, sigma: $\\alpha$,$\\beta$,$\\sigma$ in the Kawahara\n",
    "- Nmodes number of Fourier modes used\n",
    "### Output <br>\n",
    "A vector of N+2 equations, one for every unknown <br>\n",
    "<br>\n",
    "\n",
    "Example use: <br>\n",
    "Coefficients= kawaharainitial(np.array([0,1,1/2]), 0.5, alpha, beta, sigma, 1)"
   ]
  },
  {
   "cell_type": "code",
   "execution_count": 46,
   "metadata": {},
   "outputs": [],
   "source": [
    "def kawaharainitial(U, a1, alpha, beta, sigma, N): #defining the equation\n",
    "    kawaharaCosEqnsPos=np.zeros(N+2,dtype='float64') #first set all the equations equal to 0=0\n",
    "    \n",
    "    \n",
    "    V=U[0] #Vector U contains the unknown coefficients and the unknown speed, we have N+2 unknowns\n",
    "    a=U[1::]\n",
    "    \n",
    "    ### for the coefficients ###\n",
    "    \n",
    "    for k in range(N+1):\n",
    "        sum1=0.#set the sums for the nonlinear term equal to 0 when solving for every coefficient\n",
    "        sum2=0.\n",
    "        for n in range(k,N+1):\n",
    "            sum1=sum1+a[n]*a[n-k] \n",
    "        for n in range(0,k):\n",
    "            sum2=sum2+a[n]*a[k-n] \n",
    "        kawaharaCosEqnsPos[k]=((V*a[k] + 1./2.*sigma*sum1 + 1./2.*sigma*sum2 - alpha*k**2*a[k] + beta*k**4*a[k]))\n",
    "        \n",
    "        \n",
    "    kawaharaCosEqnsPos[N+1]=-a1+a[1] #for the last equation, linearize to optain an equation for speed\n",
    "    return kawaharaCosEqnsPos\n",
    "            "
   ]
  },
  {
   "cell_type": "code",
   "execution_count": 124,
   "metadata": {},
   "outputs": [
    {
     "data": {
      "text/plain": [
       "[<matplotlib.lines.Line2D at 0x7fc46cd3c390>]"
      ]
     },
     "execution_count": 124,
     "metadata": {},
     "output_type": "execute_result"
    },
    {
     "data": {
      "image/png": "[encoded data removed]",
      "text/plain": [
       "<Figure size 432x288 with 1 Axes>"
      ]
     },
     "metadata": {
      "needs_background": "light"
     },
     "output_type": "display_data"
    }
   ],
   "source": [
    "###### here is the stability computation all in one area ######\n",
    "###############################################################\n",
    "\n",
    "# declaring some constants\n",
    "thirdAlpha = 1.\n",
    "fifthBeta =1/4\n",
    "nonlinSigma = 1.\n",
    "c = thirdAlpha - fifthBeta\n",
    "L = (np.pi)*2\n",
    "spacex = np.linspace(0,L,501)\n",
    "conSteps =1500 # number of continuation steps\n",
    "a1=1.0e-6 # beginning amplitude\n",
    "aF=1.0e-2 # ending amplitude\n",
    "aS = np.linspace(a1,aF,conSteps) # vector of free parameter a1 (amplitudes)\n",
    "velocities=np.zeros(conSteps) # Tracks all the velocities for bifurcation branch\n",
    "NN=21 # number of modes at which the Fourier series is truncated \n",
    "uguess = np.zeros(NN+2)\n",
    "\n",
    "\n",
    "uguess[0] = c  # uguess is our initial guess vector, it has zeros everywhere, except for first two elements: c and a1\n",
    "uguess[2] = a1\n",
    "V=c\n",
    "for k in range(conSteps):\n",
    "\n",
    "\n",
    "    solution=fsolve(kawaharainitial, uguess, args=(aS[k], thirdAlpha, fifthBeta, nonlinSigma, NN),xtol=1.e-8) #notice amplitude changes with every iteration\n",
    "    soln=solution[1::] #all the As (excludes speed)\n",
    "\n",
    "    V = solution[0]\n",
    "    uguess=np.concatenate((V,solution[1],aS[k],solution[3::]),axis=None) #update initial guess\n",
    "    \n",
    "\n",
    "# generating the solution in real space made of cosines\n",
    "    phi = soln[0]*np.cos(0.*spacex)\n",
    "    phix = -0.*soln[0]*np.sin(0.*spacex)\n",
    "    ii = 0.\n",
    "    for aii in soln[1:]:\n",
    "        ii = ii+1.\n",
    "        phi = phi + aii*np.cos(ii*spacex)\n",
    "        phix = phix - (ii)*aii*np.sin(ii*spacex)\n",
    "\n",
    "\n",
    "\n",
    "\n",
    "\n",
    "    velocities[k]=solution[0]\n",
    "\n",
    "\n",
    "\n",
    "# rescaling to get zero average\n",
    "    phi = phi - soln[0]\n",
    "    V = V - 2.*soln[0]\n",
    "\n",
    "plt.plot(spacex,phi)"
   ]
  },
  {
   "cell_type": "markdown",
   "metadata": {},
   "source": [
    "## Function kawaharaStabFuncPosTest <br>\n",
    "This function calculates the stability matrix using the solution from integration of Kawaharainitial <br>\n",
    "### Input parameters: <br>\n",
    "- V: speed of our frame of reference\n",
    "- phi: u0. The solution from passing Kawaharainitial to fsolve\n",
    "- phix: the first space derivative of u0\n",
    "- mu: Floquet parameter\n",
    "- hillModes: number of modes used for u1\n",
    "- spacex: space vector\n",
    "- thirdAlpha,fiftheBeta,nonlinSig: $\\alpha$,$\\beta$,$\\sigma$ from the Kawahara\n",
    "- soln: Fourier coefficients from passing Kawaharainitial to fsolve\n",
    "- matrixType: 'L' or 'S'. 'L' calculates matrix entries through direct integration but 'S' calculates two matrices, one for linear/diagonal terms and one for nonlinear terms and sums them up for the final matrix. <br>\n",
    "- Damp: Damping coefficient gamma in the damping term $\\gamma u_{xx}$. Default value is 0.\n",
    "### Output parameters: <br>\n",
    "- The stability matrix\n",
    "\n",
    "### example use: <br>\n",
    "  A = kawaharaStabFuncPosTest(V, phi, phix, mumu, M, spacex, thirdAlpha, fifthBeta, nonlinSigma, soln,'S')\n",
    "\n"
   ]
  },
  {
   "cell_type": "code",
   "execution_count": 120,
   "metadata": {},
   "outputs": [],
   "source": [
    "def kawaharaStabFuncPosTest(V, phi, phix, mu, hillModes, spacex, thirdAlpha, fifthBeta, nonlinSig, soln,matrixType,Damp=0):\n",
    "    if matrixType == 'S':\n",
    "        D = np.zeros((2*hillModes+1, 2*hillModes+1),'complex')\n",
    "        T=np.zeros((2*hillModes+1, 2*hillModes+1),'complex')  \n",
    "        for mm in range(2*hillModes+1):\n",
    "            for nn in range(2*hillModes+1):\n",
    "                ms = mm - hillModes\n",
    "                ns = nn - hillModes\n",
    "                if ms ==ns:\n",
    "                \n",
    "                    D[mm,nn] = (ns+mu)*V-thirdAlpha*(ns+mu)**3+fifthBeta*(mu+ns)**5+1j*Damp*(mu+ns)**2\n",
    "                else:\n",
    "                    T[mm,nn]= 2*nonlinSig*(mu+ms)*soln[abs(ns-ms)]\n",
    "        S=1j*D+1j*T\n",
    "        matrixFinal=S\n",
    "        \n",
    "    if matrixType == 'L':\n",
    "        L = np.zeros((2*hillModes+1, 2*hillModes+1),'complex')\n",
    " \n",
    "        for mm in range(2*hillModes+1):\n",
    "            for nn in range(2*hillModes+1):\n",
    "                ms = mm - hillModes\n",
    "                ns = nn - hillModes\n",
    "                k = ns + mu\n",
    "                L[mm,nn] = 1./(2.*np.pi)*1.j*k*V*np.trapz(np.exp(1.j*(ns-ms)*spacex),spacex) +1./(2.*np.pi)*1.j*k*(thirdAlpha*(1.j*k)**2 + fifthBeta*(1.j*k)**4+Damp*(1j*k))*np.trapz(np.exp(1.j*(ns-ms)*spacex),spacex) + 2.*nonlinSig/(np.pi)*np.trapz((1.j*k*phi + phix)*np.exp(1.j*(ns-ms)*spacex),spacex)\n",
    "\n",
    "            matrixFinal=L\n",
    "                \n",
    "    return matrixFinal\n"
   ]
  },
  {
   "cell_type": "markdown",
   "metadata": {},
   "source": [
    "## Function gammaFunc <br>\n",
    "\n",
    "## Input parameters:\n",
    "- V: speed of our frame of reference\n",
    "- phi: u0. The solution from Kawaharainitial\n",
    "- phix: the first space derivative of u0\n",
    "- mu: Floquet parameter\n",
    "- hillModes: number of modes used for u1\n",
    "- spacex: space vector\n",
    "- thirdAlpha,fiftheBeta,nonlinSig: $\\alpha$,$\\beta$,$\\sigma$ from the Kawahara\n",
    "- soln: Fourier coefficients from Kawaharainitial\n",
    "- matrixType: 'L' or 'S'. 'L' calculates matrix entries through direct integration but 'S' calculates two matrices, one for linear/diagonal terms and one for nonlinear terms and sums them up for the final matrix. <br>\n",
    "\n",
    "\n",
    "## Output parameters: \n",
    "- eigenvalues and eigenvectors of the stability matrix"
   ]
  },
  {
   "cell_type": "code",
   "execution_count": 121,
   "metadata": {},
   "outputs": [],
   "source": [
    "def gammaFunc(V, phi, phix, mumu, M, spacex, thirdAlpha, fifthBeta, nonlinSigma, soln,matrixType,Damp=0):\n",
    "    A = kawaharaStabFuncPosTest(V, phi, phix, mumu, M, spacex, thirdAlpha, fifthBeta, nonlinSigma, soln,matrixType,Damp)\n",
    "    lamb,vec = np.linalg.eig(A)\n",
    "    return lamb,vec"
   ]
  },
  {
   "cell_type": "markdown",
   "metadata": {},
   "source": [
    "### The last bit of code is just to test the regions of stability deterministically"
   ]
  },
  {
   "cell_type": "code",
   "execution_count": 148,
   "metadata": {
    "scrolled": false
   },
   "outputs": [
    {
     "data": {
      "text/plain": [
       "Text(0, 0.5, 'Lambda with largest real part')"
      ]
     },
     "execution_count": 148,
     "metadata": {},
     "output_type": "execute_result"
    },
    {
     "data": {
      "image/png": "[encoded data removed]",
      "text/plain": [
       "<Figure size 432x288 with 1 Axes>"
      ]
     },
     "metadata": {
      "needs_background": "light"
     },
     "output_type": "display_data"
    }
   ],
   "source": [
    "# testing the stability\n",
    "M = 10;\n",
    "\n",
    "muMin = 0.62\n",
    "muMax = 0.64\n",
    "Nmus =200\n",
    "\n",
    "mus = np.linspace(muMin, muMax, Nmus)\n",
    "Ls=np.zeros([1,Nmus],dtype=complex) # vector for eigenvalues\n",
    "Vs=np.zeros([(2*M)+1,Nmus],dtype=complex) # vector for eigencvectors\n",
    "maxLamb = np.zeros((Nmus,1)) # vector for eignevalues with largest Real part for every mu\n",
    "\n",
    "\n",
    "nMu = 0\n",
    "for mumu in mus: # iterate through mus\n",
    "    \n",
    "    lambs,vecsl = gammaFunc(V, phi, phix, mumu, M, spacex, thirdAlpha, fifthBeta, nonlinSigma, soln,'S') # obtain all eigenvalues and eigenvectors\n",
    "    maxLamb[nMu]=np.max(lambs.real) # pick the largest \n",
    "    Ind=np.argwhere(lambs.real==np.max(lambs.real)) # index defined so that we can pick the corresponding eigenvalue and eigenvector\n",
    "    Ls[0,nMu]=lambs[Ind]\n",
    "    \n",
    "    Vs[:,nMu]=vecsl[:,Ind].transpose()\n",
    "    nMu = nMu+1\n",
    "\n",
    "    \n",
    "#plotting the real part of the eigenvalues versus the mu values to see if there is an instability\n",
    "plt.plot(mus,maxLamb,'.')\n",
    "plt.xlabel('mus')\n",
    "plt.ylabel('Lambda with largest real part')"
   ]
  },
  {
   "cell_type": "code",
   "execution_count": 141,
   "metadata": {},
   "outputs": [
    {
     "data": {
      "text/plain": [
       "(0.00049353702417489001-0.22806277273722575j)"
      ]
     },
     "execution_count": 141,
     "metadata": {},
     "output_type": "execute_result"
    }
   ],
   "source": [
    "L1"
   ]
  },
  {
   "cell_type": "code",
   "execution_count": 142,
   "metadata": {},
   "outputs": [],
   "source": [
    "data=maxLamb"
   ]
  },
  {
   "cell_type": "code",
   "execution_count": 143,
   "metadata": {},
   "outputs": [
    {
     "data": {
      "text/plain": [
       "(0.3255, 0.5)"
      ]
     },
     "execution_count": 143,
     "metadata": {},
     "output_type": "execute_result"
    },
    {
     "data": {
      "image/png": "[encoded data removed]",
      "text/plain": [
       "<Figure size 432x288 with 1 Axes>"
      ]
     },
     "metadata": {
      "needs_background": "light"
     },
     "output_type": "display_data"
    }
   ],
   "source": [
    "plt.plot(mus,data,'.')\n",
    "plt.xlim(0.3255,0.5)"
   ]
  },
  {
   "cell_type": "markdown",
   "metadata": {},
   "source": [
    "## Test for Kawaharainitial <br>\n",
    "\n",
    "In this test we recreate the bifurcation branch"
   ]
  },
  {
   "cell_type": "code",
   "execution_count": 144,
   "metadata": {},
   "outputs": [
    {
     "data": {
      "text/plain": [
       "Text(0, 0.5, 'amplitude')"
      ]
     },
     "execution_count": 144,
     "metadata": {},
     "output_type": "execute_result"
    },
    {
     "data": {
      "image/png": "[encoded data removed]",
      "text/plain": [
       "<Figure size 432x288 with 1 Axes>"
      ]
     },
     "metadata": {
      "needs_background": "light"
     },
     "output_type": "display_data"
    }
   ],
   "source": [
    "\n",
    "### a1 vs. v ###\n",
    "\n",
    "plt.plot(velocities,aS,'.')\n",
    "\n",
    "# plt.xlim([0.756,0.7575]) #zoom\n",
    "# plt.ylim([0.15,0.19])\n",
    "\n",
    "\n",
    "\n",
    "# plt.xlim([0.750,0.9])\n",
    "# plt.ylim([0.,0.02])\n",
    "# plt.ylim([0.0,0.51])\n",
    "# plt.xlim([0.960,1.08])\n",
    "plt.xlabel('speed')\n",
    "plt.ylabel('amplitude')"
   ]
  },
  {
   "cell_type": "code",
   "execution_count": 145,
   "metadata": {},
   "outputs": [
    {
     "name": "stdout",
     "output_type": "stream",
     "text": [
      "Stored 'L1' (complex128)\n",
      "Stored 'L2' (complex128)\n",
      "Stored 'mu1' (float64)\n",
      "Stored 'mu2' (float64)\n",
      "Stored 'vec1' (ndarray)\n",
      "Stored 'vec2' (ndarray)\n",
      "Stored 'soln' (ndarray)\n",
      "Stored 'V' (float64)\n",
      "Stored 'M' (int)\n",
      "Stored 'Coeffs' (ndarray)\n"
     ]
    }
   ],
   "source": [
    "### for perturbation testing we will test two mus, the first index is unstable and the second stable\n",
    "\n",
    "L1=Ls[0,0] # unstable\n",
    "L2=Ls[0,1] # stable\n",
    "mu1=mus[0] # unstable\n",
    "mu2=mus[1] # stable \n",
    "vec1=Vs[:,0] # unstable eigenvector\n",
    "vec2=Vs[:,1] # stable eigenvector\n",
    "Coeffs=soln\n",
    "\n",
    "### Storing variables to pass over to the solver ###\n",
    "%store L1\n",
    "%store L2\n",
    "%store mu1\n",
    "%store mu2\n",
    "%store vec1\n",
    "%store vec2\n",
    "%store soln\n",
    "%store V\n",
    "%store M\n",
    "%store Coeffs"
   ]
  },
  {
   "cell_type": "code",
   "execution_count": 146,
   "metadata": {},
   "outputs": [
    {
     "data": {
      "text/plain": [
       "(0.000469939788617987-0.22816256896277654j)"
      ]
     },
     "execution_count": 146,
     "metadata": {},
     "output_type": "execute_result"
    }
   ],
   "source": [
    "L1"
   ]
  },
  {
   "cell_type": "code",
   "execution_count": null,
   "metadata": {},
   "outputs": [],
   "source": []
  }
 ],
 "metadata": {
  "anaconda-cloud": {},
  "kernelspec": {
   "display_name": "Python 3",
   "language": "python",
   "name": "python3"
  },
  "language_info": {
   "codemirror_mode": {
    "name": "ipython",
    "version": 3
   },
   "file_extension": ".py",
   "mimetype": "text/x-python",
   "name": "python",
   "nbconvert_exporter": "python",
   "pygments_lexer": "ipython3",
   "version": "3.9.6 (default, Oct 18 2022, 12:41:40) \n[Clang 14.0.0 (clang-1400.0.29.202)]"
  },
  "vscode": {
   "interpreter": {
    "hash": "31f2aee4e71d21fbe5cf8b01ff0e069b9275f58929596ceb00d14d90e3e16cd6"
   }
  }
 },
 "nbformat": 4,
 "nbformat_minor": 1
}
